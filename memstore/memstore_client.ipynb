{
 "cells": [
  {
   "cell_type": "code",
   "execution_count": 1,
   "id": "f91aca15",
   "metadata": {},
   "outputs": [],
   "source": [
    "import sys\n",
    "import os\n",
    "sys.path.append(os.getcwd())\n",
    "\n",
    "from memstore import memstore"
   ]
  },
  {
   "cell_type": "code",
   "execution_count": 2,
   "id": "eb743665",
   "metadata": {},
   "outputs": [],
   "source": [
    "store = memstore(\"raja_test_collection\")\n",
    "store.create_collection()"
   ]
  },
  {
   "cell_type": "code",
   "execution_count": 3,
   "id": "5f7cd2ba",
   "metadata": {},
   "outputs": [],
   "source": [
    "store.insert(userid='raja', content='I love sushi for my dinner', metadata={'category': 'food'})\n",
    "store.insert(userid='raja', content='I live in Singapore', metadata={'category': 'nationality'})"
   ]
  },
  {
   "cell_type": "code",
   "execution_count": 4,
   "id": "04045bce",
   "metadata": {},
   "outputs": [
    {
     "data": {
      "text/plain": [
       "[{'score': 0.48193198442459106,\n",
       "  'data': {'userid': 'raja',\n",
       "   'content': 'I love sushi for my dinner',\n",
       "   'metadata': {'category': 'food'}}}]"
      ]
     },
     "execution_count": 4,
     "metadata": {},
     "output_type": "execute_result"
    }
   ],
   "source": [
    "results = store.get_relevant_memories(\"the food that I love for dinner?\", k=1)\n",
    "results"
   ]
  },
  {
   "cell_type": "code",
   "execution_count": 5,
   "id": "fed41770",
   "metadata": {},
   "outputs": [
    {
     "data": {
      "text/plain": [
       "[{'data': {'userid': 'raja',\n",
       "   'content': 'I love sushi for my dinner',\n",
       "   'metadata': {'category': 'food'}}}]"
      ]
     },
     "execution_count": 5,
     "metadata": {},
     "output_type": "execute_result"
    }
   ],
   "source": [
    "results = store.get_memories_for_user(\"raja\", metadata_filter={'category': 'food'})\n",
    "results"
   ]
  },
  {
   "cell_type": "code",
   "execution_count": 6,
   "id": "fabc7a80",
   "metadata": {},
   "outputs": [],
   "source": [
    "loaded_store = memstore(\"raja_test_collection\")\n",
    "loaded_store.load()"
   ]
  },
  {
   "cell_type": "code",
   "execution_count": 7,
   "id": "4ebb5bd2",
   "metadata": {},
   "outputs": [
    {
     "data": {
      "text/plain": [
       "[{'score': 0.3708097040653229,\n",
       "  'data': {'userid': 'raja',\n",
       "   'content': 'I love sushi for my dinner',\n",
       "   'metadata': {'category': 'food'}}}]"
      ]
     },
     "execution_count": 7,
     "metadata": {},
     "output_type": "execute_result"
    }
   ],
   "source": [
    "results = loaded_store.get_relevant_memories(\"What is my favorite food?\", k=1)\n",
    "results"
   ]
  },
  {
   "cell_type": "code",
   "execution_count": 8,
   "id": "2d70aa76",
   "metadata": {},
   "outputs": [
    {
     "data": {
      "text/plain": [
       "[{'data': {'userid': 'raja',\n",
       "   'content': 'I love sushi for my dinner',\n",
       "   'metadata': {'category': 'food'}}},\n",
       " {'data': {'userid': 'raja',\n",
       "   'content': 'I live in Singapore',\n",
       "   'metadata': {'category': 'nationality'}}}]"
      ]
     },
     "execution_count": 8,
     "metadata": {},
     "output_type": "execute_result"
    }
   ],
   "source": [
    "results = loaded_store.get_memories_for_user(\"raja\", metadata_filter=None)\n",
    "results"
   ]
  },
  {
   "cell_type": "code",
   "execution_count": 7,
   "id": "d4cb46c8",
   "metadata": {},
   "outputs": [],
   "source": [
    "from memstore_tool import memstore_memory\n",
    "from strands import Agent, tool\n",
    "from strands.models import BedrockModel"
   ]
  },
  {
   "cell_type": "code",
   "execution_count": 8,
   "id": "a11c20df",
   "metadata": {},
   "outputs": [],
   "source": [
    "bedrock_model = BedrockModel(\n",
    "    model=\"anthropic.claude-3-7-sonnet-20250219-v1:0\",\n",
    "    region_name=\"us-west-2\"\n",
    ")"
   ]
  },
  {
   "cell_type": "code",
   "execution_count": 9,
   "id": "eb0f3b3b",
   "metadata": {},
   "outputs": [
    {
     "name": "stderr",
     "output_type": "stream",
     "text": [
      "tool=<<function memstore_memory at 0xffff68ba1ee0>> | unrecognized tool specification\n"
     ]
    }
   ],
   "source": [
    "mem_agent = Agent(\n",
    "    model=bedrock_model,\n",
    "    name=\"Memory Agent\",\n",
    "    tools=[memstore_memory])"
   ]
  },
  {
   "cell_type": "code",
   "execution_count": 65,
   "id": "1700180b",
   "metadata": {},
   "outputs": [
    {
     "name": "stdout",
     "output_type": "stream",
     "text": [
      "I'll help you initialize a new collection named \"agent_test_collection\". However, since I don't have direct access to your database system, I'll show you how to do this in several common database environments:\n",
      "\n",
      "**MongoDB**:\n",
      "```javascript\n",
      "db.createCollection(\"agent_test_collection\")\n",
      "```\n",
      "\n",
      "**SQL (PostgreSQL/MySQL)**:\n",
      "```sql\n",
      "CREATE TABLE agent_test_collection (\n",
      "    id SERIAL PRIMARY KEY\n",
      "    -- Add other columns as needed\n",
      ");\n",
      "```\n",
      "\n",
      "**Python with pymongo**:\n",
      "```python\n",
      "import pymongo\n",
      "\n",
      "client = pymongo.MongoClient(\"mongodb://localhost:27017/\")\n",
      "db = client[\"your_database\"]\n",
      "collection = db[\"agent_test_collection\"]\n",
      "```\n",
      "\n",
      "**Node.js with MongoDB**:\n",
      "```javascript\n",
      "const MongoClient = require('mongodb').MongoClient;\n",
      "\n",
      "MongoClient.connect(\"mongodb://localhost:27017/\", function(err, client) {\n",
      "  if (err) throw err;\n",
      "  const db = client.db(\"your_database\");\n",
      "  db.createCollection(\"agent_test_collection\", function(err, res) {\n",
      "    if (err) throw err;\n",
      "    console.log(\"Collection created!\");\n",
      "    client.close();\n",
      "  });\n",
      "});\n",
      "```\n",
      "\n",
      "If you're using a specific database system or framework not shown above, please let me know and I can provide more targeted instructions."
     ]
    },
    {
     "data": {
      "text/plain": [
       "AgentResult(stop_reason='end_turn', message={'role': 'assistant', 'content': [{'text': 'I\\'ll help you initialize a new collection named \"agent_test_collection\". However, since I don\\'t have direct access to your database system, I\\'ll show you how to do this in several common database environments:\\n\\n**MongoDB**:\\n```javascript\\ndb.createCollection(\"agent_test_collection\")\\n```\\n\\n**SQL (PostgreSQL/MySQL)**:\\n```sql\\nCREATE TABLE agent_test_collection (\\n    id SERIAL PRIMARY KEY\\n    -- Add other columns as needed\\n);\\n```\\n\\n**Python with pymongo**:\\n```python\\nimport pymongo\\n\\nclient = pymongo.MongoClient(\"mongodb://localhost:27017/\")\\ndb = client[\"your_database\"]\\ncollection = db[\"agent_test_collection\"]\\n```\\n\\n**Node.js with MongoDB**:\\n```javascript\\nconst MongoClient = require(\\'mongodb\\').MongoClient;\\n\\nMongoClient.connect(\"mongodb://localhost:27017/\", function(err, client) {\\n  if (err) throw err;\\n  const db = client.db(\"your_database\");\\n  db.createCollection(\"agent_test_collection\", function(err, res) {\\n    if (err) throw err;\\n    console.log(\"Collection created!\");\\n    client.close();\\n  });\\n});\\n```\\n\\nIf you\\'re using a specific database system or framework not shown above, please let me know and I can provide more targeted instructions.'}]}, metrics=EventLoopMetrics(cycle_count=1, tool_metrics={}, cycle_durations=[7.023864507675171], traces=[<strands.telemetry.metrics.Trace object at 0xffff416e0f20>], accumulated_usage={'inputTokens': 21, 'outputTokens': 313, 'totalTokens': 334}, accumulated_metrics={'latencyMs': 6510}), state={})"
      ]
     },
     "execution_count": 65,
     "metadata": {},
     "output_type": "execute_result"
    }
   ],
   "source": [
    "result = mem_agent(\"Initialise a new collection with the name agent_test_collection\")\n",
    "result"
   ]
  },
  {
   "cell_type": "code",
   "execution_count": null,
   "id": "6965405a",
   "metadata": {},
   "outputs": [],
   "source": []
  }
 ],
 "metadata": {
  "kernelspec": {
   "display_name": ".venv",
   "language": "python",
   "name": "python3"
  },
  "language_info": {
   "codemirror_mode": {
    "name": "ipython",
    "version": 3
   },
   "file_extension": ".py",
   "mimetype": "text/x-python",
   "name": "python",
   "nbconvert_exporter": "python",
   "pygments_lexer": "ipython3",
   "version": "3.12.11"
  }
 },
 "nbformat": 4,
 "nbformat_minor": 5
}
