{
 "cells": [
  {
   "cell_type": "code",
   "execution_count": 1,
   "id": "f91aca15",
   "metadata": {},
   "outputs": [],
   "source": [
    "import sys\n",
    "import os\n",
    "sys.path.append(os.getcwd())\n",
    "\n",
    "from memstore import memstore"
   ]
  },
  {
   "cell_type": "code",
   "execution_count": 2,
   "id": "eb743665",
   "metadata": {},
   "outputs": [],
   "source": [
    "store = memstore(\"raja_test_collection\")\n",
    "store.create_collection()"
   ]
  },
  {
   "cell_type": "code",
   "execution_count": 3,
   "id": "5f7cd2ba",
   "metadata": {},
   "outputs": [],
   "source": [
    "store.insert(userid='raja', content='I love sushi for my dinner', metadata={'category': 'food'})\n",
    "store.insert(userid='raja', content='I live in Singapore', metadata={'category': 'nationality'})"
   ]
  },
  {
   "cell_type": "code",
   "execution_count": 4,
   "id": "04045bce",
   "metadata": {},
   "outputs": [
    {
     "data": {
      "text/plain": [
       "[{'score': 0.48193198442459106,\n",
       "  'data': {'userid': 'raja',\n",
       "   'content': 'I love sushi for my dinner',\n",
       "   'metadata': {'category': 'food'}}}]"
      ]
     },
     "execution_count": 4,
     "metadata": {},
     "output_type": "execute_result"
    }
   ],
   "source": [
    "results = store.get_relevant_memories(\"the food that I love for dinner?\", k=1)\n",
    "results"
   ]
  },
  {
   "cell_type": "code",
   "execution_count": 5,
   "id": "fed41770",
   "metadata": {},
   "outputs": [
    {
     "data": {
      "text/plain": [
       "[{'data': {'userid': 'raja',\n",
       "   'content': 'I love sushi for my dinner',\n",
       "   'metadata': {'category': 'food'}}}]"
      ]
     },
     "execution_count": 5,
     "metadata": {},
     "output_type": "execute_result"
    }
   ],
   "source": [
    "results = store.get_memories_for_user(\"raja\", metadata_filter={'category': 'food'})\n",
    "results"
   ]
  },
  {
   "cell_type": "code",
   "execution_count": 6,
   "id": "fabc7a80",
   "metadata": {},
   "outputs": [],
   "source": [
    "loaded_store = memstore(\"raja_test_collection\")\n",
    "loaded_store.load()"
   ]
  },
  {
   "cell_type": "code",
   "execution_count": 7,
   "id": "4ebb5bd2",
   "metadata": {},
   "outputs": [
    {
     "data": {
      "text/plain": [
       "[{'score': 0.3708097040653229,\n",
       "  'data': {'userid': 'raja',\n",
       "   'content': 'I love sushi for my dinner',\n",
       "   'metadata': {'category': 'food'}}}]"
      ]
     },
     "execution_count": 7,
     "metadata": {},
     "output_type": "execute_result"
    }
   ],
   "source": [
    "results = loaded_store.get_relevant_memories(\"What is my favorite food?\", k=1)\n",
    "results"
   ]
  },
  {
   "cell_type": "code",
   "execution_count": 8,
   "id": "2d70aa76",
   "metadata": {},
   "outputs": [
    {
     "data": {
      "text/plain": [
       "[{'data': {'userid': 'raja',\n",
       "   'content': 'I love sushi for my dinner',\n",
       "   'metadata': {'category': 'food'}}},\n",
       " {'data': {'userid': 'raja',\n",
       "   'content': 'I live in Singapore',\n",
       "   'metadata': {'category': 'nationality'}}}]"
      ]
     },
     "execution_count": 8,
     "metadata": {},
     "output_type": "execute_result"
    }
   ],
   "source": [
    "results = loaded_store.get_memories_for_user(\"raja\", metadata_filter=None)\n",
    "results"
   ]
  },
  {
   "cell_type": "code",
   "execution_count": 30,
   "id": "d4cb46c8",
   "metadata": {},
   "outputs": [],
   "source": [
    "import memstore_tool\n",
    "from strands import Agent, tool\n",
    "from strands.models.bedrock import BedrockModel\n",
    "from strands.models.ollama import OllamaModel"
   ]
  },
  {
   "cell_type": "code",
   "execution_count": 31,
   "id": "6965405a",
   "metadata": {},
   "outputs": [
    {
     "name": "stderr",
     "output_type": "stream",
     "text": [
      "tool_name=<memstore_tool>, module_path=</home/ec2-user/qflow/memstore/memstore_tool.py> | invalid agent tool\n"
     ]
    },
    {
     "name": "stdout",
     "output_type": "stream",
     "text": [
      "I'll help you retrieve all the memories for user Raja from the agent_test_collection.\n",
      "\n",
      "To do this, I would execute a query against the collection that filters for documents where the user field equals \"Raja\". The query would look something like this:\n",
      "\n",
      "```\n",
      "db.agent_test_collection.find({ user: \"Raja\" })\n",
      "```\n",
      "\n",
      "This query will return all documents in the agent_test_collection where the user field matches \"Raja\". The result would include all memories or records associated with Raja in that collection.\n",
      "\n",
      "Would you like me to modify this query in any way, such as sorting the results or limiting the fields returned?Agent response: I'll help you retrieve all the memories for user Raja from the agent_test_collection.\n",
      "\n",
      "To do this, I would execute a query against the collection that filters for documents where the user field equals \"Raja\". The query would look something like this:\n",
      "\n",
      "```\n",
      "db.agent_test_collection.find({ user: \"Raja\" })\n",
      "```\n",
      "\n",
      "This query will return all documents in the agent_test_collection where the user field matches \"Raja\". The result would include all memories or records associated with Raja in that collection.\n",
      "\n",
      "Would you like me to modify this query in any way, such as sorting the results or limiting the fields returned?\n",
      "\n"
     ]
    }
   ],
   "source": [
    "bedrock_model = BedrockModel(\n",
    "        model_id=\"us.anthropic.claude-3-7-sonnet-20250219-v1:0\", region_name=\"us-west-2\")\n",
    "\n",
    "ollama_model = OllamaModel(model_id=\"llama3.2:3b\", host=\"http://localhost:11434\")\n",
    "\n",
    "agent = Agent(name=\"memstore_agent\", model=bedrock_model, tools=[memstore_tool])\n",
    "response = agent(\"From the collection agent_test_collection, get all the memories for user Raja\")\n",
    "print(\"Agent response:\", response)"
   ]
  },
  {
   "cell_type": "code",
   "execution_count": null,
   "id": "dacf9896",
   "metadata": {},
   "outputs": [],
   "source": []
  }
 ],
 "metadata": {
  "kernelspec": {
   "display_name": ".venv",
   "language": "python",
   "name": "python3"
  },
  "language_info": {
   "codemirror_mode": {
    "name": "ipython",
    "version": 3
   },
   "file_extension": ".py",
   "mimetype": "text/x-python",
   "name": "python",
   "nbconvert_exporter": "python",
   "pygments_lexer": "ipython3",
   "version": "3.12.11"
  }
 },
 "nbformat": 4,
 "nbformat_minor": 5
}
