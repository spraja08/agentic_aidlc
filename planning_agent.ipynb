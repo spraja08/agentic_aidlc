{
 "cells": [
  {
   "cell_type": "code",
   "execution_count": 28,
   "id": "9cbd01dd",
   "metadata": {},
   "outputs": [],
   "source": [
    "from strands import Agent\n",
    "from strands.models.ollama import OllamaModel\n",
    "from memstore import memstore"
   ]
  },
  {
   "cell_type": "code",
   "execution_count": null,
   "id": "4ee8c767",
   "metadata": {},
   "outputs": [],
   "source": [
    "# Create ollama model instance\n",
    "ollamModel = OllamaModel(\n",
    "    model_id=\"llama3.2:3b\",\n",
    "    host=\"http://localhost:11434\",\n",
    ")\n",
    "\n",
    "agent = Agent(model=ollamModel,\n",
    "              system_prompt=\"\"\"Your Role: You are an expert software development lifecycle planner. \n",
    "              You receive an intent like new system development, refactoring existing system,\n",
    "              adding a new feature, or fixing a bug. You will create a plan for implementing the new intention which only contains the level 1 tasks.\n",
    "              Do not make critical decisions. Always ask for more information if you are unsure about the intention or if it is not clear.\n",
    "              Let the user clarify the intention if needed.\n",
    "              The plan should be a list of steps that are necessary to complete the intention.\n",
    "              Each step in the plan has a completion status (complete or incomplete) and a description of the step. \n",
    "              Create a json output with the following structure:\n",
    "              {\n",
    "                \"intention\": \"The full intention text you received from the user\",\n",
    "                \"plan\": [\n",
    "                    {\n",
    "                        \"step\": \"Step description\",\n",
    "                        \"status\": \"complete\" or \"incomplete\"\n",
    "                    },\n",
    "                    ...\n",
    "                ],\n",
    "                \"clarification_needed\": [ {\n",
    "                    \"clarification_question\": \"Your question to the user if clarification is needed, otherwise empty string\",\n",
    "                    \"clarification_answer\": \"The answer to the question, if available, otherwise empty string\"   \n",
    "                }]\n",
    "              }\"\"\"  \n",
    "              )"
   ]
  },
  {
   "cell_type": "code",
   "execution_count": 44,
   "id": "2a209898",
   "metadata": {},
   "outputs": [
    {
     "name": "stdout",
     "output_type": "stream",
     "text": [
      "Based on the intention you provided, here is a plan with level 1 tasks:\n",
      "\n",
      "```\n",
      "{\n",
      "    \"intention\": \"Building a new system for managing personal finances with a web interface, mobile app, and report generation capabilities\",\n",
      "    \"plan\": [\n",
      "        {\n",
      "            \"step\": \"Define the database schema and data models for income, expenses, and savings goals\",\n",
      "            \"status\": \"incomplete\"\n",
      "        },\n",
      "        {\n",
      "            \"step\": \"Design and develop the user authentication system for both web and mobile apps\",\n",
      "            \"status\": \"incomplete\"\n",
      "        },\n",
      "        {\n",
      "            \"step\": \"Create wireframes and prototypes for the web interface and mobile app\",\n",
      "            \"status\": \"incomplete\"\n",
      "        },\n",
      "        {\n",
      "            \"step\": \"Develop the backend API for data storage, retrieval, and report generation\",\n",
      "            \"status\": \"incomplete\"\n",
      "        },\n",
      "        {\n",
      "            \"step\": \"Implement a user-friendly interface for inputting income, expenses, and savings goals\",\n",
      "            \"status\": \"incomplete\"\n",
      "        },\n",
      "        {\n",
      "            \"step\": \"Develop the mobile app with iOS and Android compatibility\",\n",
      "            \"status\": \"incomplete\"\n",
      "        },\n",
      "        {\n",
      "            \"step\": \"Create report templates and algorithms for generating financial health reports\",\n",
      "            \"status\": \"incomplete\"\n",
      "        }\n",
      "    ],\n",
      "    \"clarification_needed\": [\n",
      "        {\n",
      "            \"clarification_question\": \"What are the specific financial features you want to include (e.g., categorization, budgeting, alerts)?\",\n",
      "            \"clarification_answer\": \"\"\n",
      "        },\n",
      "        {\n",
      "            \"clarification_question\": \"Do you have any existing data or requirements from previous financial management systems?\",\n",
      "            \"clarification_answer\": \"\"\n",
      "        }\n",
      "    ]\n",
      "}\n",
      "```\n",
      "\n",
      "I would like to request clarification on the following points:\n",
      "\n",
      "* What are the specific financial features you want to include in the system (e.g., categorization, budgeting, alerts)?\n",
      "* Do you have any existing data or requirements from previous financial management systems that can inform the design and development of this new system?"
     ]
    },
    {
     "data": {
      "text/plain": [
       "AgentResult(stop_reason='end_turn', message={'role': 'assistant', 'content': [{'text': 'Based on the intention you provided, here is a plan with level 1 tasks:\\n\\n```\\n{\\n    \"intention\": \"Building a new system for managing personal finances with a web interface, mobile app, and report generation capabilities\",\\n    \"plan\": [\\n        {\\n            \"step\": \"Define the database schema and data models for income, expenses, and savings goals\",\\n            \"status\": \"incomplete\"\\n        },\\n        {\\n            \"step\": \"Design and develop the user authentication system for both web and mobile apps\",\\n            \"status\": \"incomplete\"\\n        },\\n        {\\n            \"step\": \"Create wireframes and prototypes for the web interface and mobile app\",\\n            \"status\": \"incomplete\"\\n        },\\n        {\\n            \"step\": \"Develop the backend API for data storage, retrieval, and report generation\",\\n            \"status\": \"incomplete\"\\n        },\\n        {\\n            \"step\": \"Implement a user-friendly interface for inputting income, expenses, and savings goals\",\\n            \"status\": \"incomplete\"\\n        },\\n        {\\n            \"step\": \"Develop the mobile app with iOS and Android compatibility\",\\n            \"status\": \"incomplete\"\\n        },\\n        {\\n            \"step\": \"Create report templates and algorithms for generating financial health reports\",\\n            \"status\": \"incomplete\"\\n        }\\n    ],\\n    \"clarification_needed\": [\\n        {\\n            \"clarification_question\": \"What are the specific financial features you want to include (e.g., categorization, budgeting, alerts)?\",\\n            \"clarification_answer\": \"\"\\n        },\\n        {\\n            \"clarification_question\": \"Do you have any existing data or requirements from previous financial management systems?\",\\n            \"clarification_answer\": \"\"\\n        }\\n    ]\\n}\\n```\\n\\nI would like to request clarification on the following points:\\n\\n* What are the specific financial features you want to include in the system (e.g., categorization, budgeting, alerts)?\\n* Do you have any existing data or requirements from previous financial management systems that can inform the design and development of this new system?'}]}, metrics=EventLoopMetrics(cycle_count=1, tool_metrics={}, cycle_durations=[5.829469203948975], traces=[<strands.telemetry.metrics.Trace object at 0x12498c650>], accumulated_usage={'inputTokens': 416, 'outputTokens': 326, 'totalTokens': 742}, accumulated_metrics={'latencyMs': 5822.95375}), state={})"
      ]
     },
     "execution_count": 44,
     "metadata": {},
     "output_type": "execute_result"
    }
   ],
   "source": [
    "agent(\"\"\"I am building a new system for managing my personal finances. I want to track my income, expenses, and savings goals. \n",
    "         The system should have a web interface and a mobile app. It should also allow me to generate reports on my financial health.\"\"\")"
   ]
  },
  {
   "cell_type": "code",
   "execution_count": null,
   "id": "212365da",
   "metadata": {},
   "outputs": [],
   "source": []
  }
 ],
 "metadata": {
  "kernelspec": {
   "display_name": ".venv",
   "language": "python",
   "name": "python3"
  },
  "language_info": {
   "codemirror_mode": {
    "name": "ipython",
    "version": 3
   },
   "file_extension": ".py",
   "mimetype": "text/x-python",
   "name": "python",
   "nbconvert_exporter": "python",
   "pygments_lexer": "ipython3",
   "version": "3.12.11"
  }
 },
 "nbformat": 4,
 "nbformat_minor": 5
}
